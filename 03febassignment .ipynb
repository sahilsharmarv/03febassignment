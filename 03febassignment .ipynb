{
 "cells": [
  {
   "cell_type": "markdown",
   "id": "6ca36dd1-a238-4085-8317-93bf73e019e4",
   "metadata": {},
   "source": [
    "Q1. Which keyword is used to create a function? Create a function to return a list of odd numbers in the  range of 1 to 25. "
   ]
  },
  {
   "cell_type": "code",
   "execution_count": null,
   "id": "26d2635f-29f9-49bb-95f8-2966c3b879e4",
   "metadata": {},
   "outputs": [],
   "source": [
    "To create the function we used the def keyword. \n",
    "def function_name():"
   ]
  },
  {
   "cell_type": "code",
   "execution_count": 3,
   "id": "90e153f1-95c5-4463-84dd-6a4a844aac83",
   "metadata": {},
   "outputs": [],
   "source": [
    "# we create the function to return a list of odd numbers in the range of 1 to 25\n",
    "def odd_numbers():\n",
    "    l1 = []\n",
    "    for i in range (1,25):\n",
    "        if i%2==1:\n",
    "            l1.append(i)\n",
    "    return l1"
   ]
  },
  {
   "cell_type": "code",
   "execution_count": 5,
   "id": "79fd056e-c3bc-4f67-b7b6-c25f3e843357",
   "metadata": {},
   "outputs": [
    {
     "data": {
      "text/plain": [
       "[1, 3, 5, 7, 9, 11, 13, 15, 17, 19, 21, 23]"
      ]
     },
     "execution_count": 5,
     "metadata": {},
     "output_type": "execute_result"
    }
   ],
   "source": [
    "odd_numbers()          # function call"
   ]
  },
  {
   "cell_type": "markdown",
   "id": "cdfbc757-acc2-407a-95c0-4f181db7fff7",
   "metadata": {},
   "source": [
    "Q2. Why *args and **kwargs is used in some functions? Create a function each for *args and **kwargs  to demonstrate their use. "
   ]
  },
  {
   "cell_type": "markdown",
   "id": "bc1ffc19-960c-4fe8-8ca3-1e2583f39b47",
   "metadata": {},
   "source": [
    "We can use *args and **kwargs as arguments of a function when we are unsure about the number of arguments to pass in the functions.\n",
    "*args allows us to pass a variable number of non-keyword arguments to a Python function. In the function, we should use an asterisk (*) before the parameter name to pass a variable number of arguments.*args allows you to do is take in more arguments than the number of formal arguments that you previously defined.The name *args is just a convention, the * symbol is what allows you to pass a variable number of arguments."
   ]
  },
  {
   "cell_type": "code",
   "execution_count": 4,
   "id": "c2fffe25-aed4-48c2-b0b3-200c51da3e42",
   "metadata": {},
   "outputs": [
    {
     "data": {
      "text/plain": [
       "(1, 2, 3, 4, 'sahil', 23.334)"
      ]
     },
     "execution_count": 4,
     "metadata": {},
     "output_type": "execute_result"
    }
   ],
   "source": [
    "def func(*args):\n",
    "    return args\n",
    "func(1,2,3,4,'sahil',23.334) # function call"
   ]
  },
  {
   "cell_type": "code",
   "execution_count": 5,
   "id": "ddd674d9-3bd8-429f-9e15-83b9752b3865",
   "metadata": {},
   "outputs": [],
   "source": [
    "def num(*num):\n",
    "    sum = 0\n",
    "    for n in num:\n",
    "        sum = sum + n\n",
    "    print('Sum is : ' , sum)\n",
    "    "
   ]
  },
  {
   "cell_type": "code",
   "execution_count": 6,
   "id": "4207e136-7287-469d-99dc-141566e69208",
   "metadata": {},
   "outputs": [
    {
     "name": "stdout",
     "output_type": "stream",
     "text": [
      "Sum is :  14\n",
      "Sum is :  35\n",
      "Sum is :  798\n"
     ]
    }
   ],
   "source": [
    "num(2,3,4,5)\n",
    "num(2,3,4,5,6,7,8)\n",
    "num(22,44,55,677)"
   ]
  },
  {
   "cell_type": "markdown",
   "id": "8e7c79b5-96d3-47d8-9d62-e973ea288f52",
   "metadata": {},
   "source": [
    "**kwargs allows us to pass a variable number of keyword arguments to a Python function. In the function, we use the double-asterisk (**) before the parameter name to denote this type of argument.The name **kwargs is also just a convention, the ** symbol is what allows you to pass a variable number of keyword arguments."
   ]
  },
  {
   "cell_type": "code",
   "execution_count": 7,
   "id": "318e4b65-bc41-4131-8ce9-ea5b32b24b9d",
   "metadata": {},
   "outputs": [
    {
     "data": {
      "text/plain": [
       "{'name': 'Sahil', 'age': 20, 'phone': 123456789}"
      ]
     },
     "execution_count": 7,
     "metadata": {},
     "output_type": "execute_result"
    }
   ],
   "source": [
    "def funct(**args):\n",
    "    return args\n",
    "funct(name = 'Sahil' , age = 20 , phone = 123456789) #function call"
   ]
  },
  {
   "cell_type": "markdown",
   "id": "f4c07b23-ddbd-45d3-b3f6-d0191d93afe9",
   "metadata": {},
   "source": [
    "Q3.  What is an iterator in python? Name the method used to initialise the iterator object and the method  used for iteration. Use these methods to print the first five elements of the given list [2, 4, 6, 8, 10, 12, 14,  16, 18, 20]. "
   ]
  },
  {
   "cell_type": "markdown",
   "id": "f3a0e5a8-1988-4024-9128-cdc41738c555",
   "metadata": {},
   "source": [
    "An iterator is an object that contains a countable number of values.\n",
    "An iterator is an object that can be iterated upon, meaning that you can traverse through all the values.\n",
    "Technically, in Python, an iterator is an object which implements the iterator protocol, which consist of the methods __iter__() and __next__().\n",
    "\n",
    "To initialize an iterator object, you can call the iter() function on an iterable object such as a list, tuple, or string. The iter() function returns an iterator object.\n",
    "\n",
    "To iterate over an iterator object, you can use the next() function. The next() function returns the next item from the iterator. When there are no more items, it raises the StopIteration exception."
   ]
  },
  {
   "cell_type": "code",
   "execution_count": 8,
   "id": "b449987f-9056-44cc-900e-74b942bb5f95",
   "metadata": {},
   "outputs": [
    {
     "name": "stdout",
     "output_type": "stream",
     "text": [
      "S\n",
      "a\n",
      "h\n",
      "i\n",
      "l\n"
     ]
    }
   ],
   "source": [
    "# random example \n",
    "string = \"Sahil\"\n",
    "ch_iterator = iter(string)\n",
    "print(next(ch_iterator))\n",
    "print(next(ch_iterator))\n",
    "print(next(ch_iterator))\n",
    "print(next(ch_iterator))\n",
    "print(next(ch_iterator))"
   ]
  },
  {
   "cell_type": "code",
   "execution_count": 9,
   "id": "8b4b207f-542f-4cea-b133-c7d4a450736b",
   "metadata": {},
   "outputs": [
    {
     "name": "stdout",
     "output_type": "stream",
     "text": [
      "2\n",
      "4\n",
      "6\n",
      "8\n",
      "10\n"
     ]
    }
   ],
   "source": [
    "#  Use these methods to print the first five elements of the given list [2, 4, 6, 8, 10, 12, 14,  16, 18, 20]. \n",
    "l = [2, 4, 6, 8, 10, 12, 14,  16, 18, 20]\n",
    "iterator = iter(l)\n",
    "for i in range(5):\n",
    "    print(next(iterator))"
   ]
  },
  {
   "cell_type": "markdown",
   "id": "2847e4ce-efb5-48c3-9a2e-c1c9854243f2",
   "metadata": {},
   "source": [
    "Q4.  What is a generator function in python? Why yield keyword is used? Give an example of a generator  function. "
   ]
  },
  {
   "cell_type": "markdown",
   "id": "d8ef8e31-30e9-4797-99b4-c17f27e9b9de",
   "metadata": {},
   "source": [
    "In Python, a generator function is a special type of function that generates a sequence of values, one at a time, instead of returning a single value.The Yield keyword in Python is similar to a return statement used for returning values or objects in Python. However, there is a slight difference.\n",
    "The yield statement returns a generator object to the one who calls the function which contains yield, instead of simply returning a value.\n",
    "The main difference between them is, the return statement terminates the execution of the function. Whereas, the yield statement only pauses the execution of the function. Another difference is return statements are never executed. whereas, yield statements are executed when the function resumes its execution."
   ]
  },
  {
   "cell_type": "code",
   "execution_count": 10,
   "id": "dbfca66d-06c0-430c-ae52-93962872affd",
   "metadata": {},
   "outputs": [
    {
     "name": "stdout",
     "output_type": "stream",
     "text": [
      "0\n",
      "1\n",
      "1\n",
      "2\n",
      "3\n",
      "5\n"
     ]
    }
   ],
   "source": [
    "def fibonacci():\n",
    "    a, b = 0, 1\n",
    "    while True:\n",
    "        yield a\n",
    "        a, b = b, a + b\n",
    "fib = fibonacci()\n",
    "print(next(fib)) # 0\n",
    "print(next(fib)) # 1\n",
    "print(next(fib)) # 1\n",
    "print(next(fib)) # 2\n",
    "print(next(fib)) # 3\n",
    "print(next(fib)) # 5"
   ]
  },
  {
   "cell_type": "code",
   "execution_count": 11,
   "id": "c3a6f19d-fa03-431d-a3d0-f737ebe77a55",
   "metadata": {},
   "outputs": [
    {
     "name": "stdout",
     "output_type": "stream",
     "text": [
      "<class 'generator'>\n",
      "Hello world!!\n",
      "Geeksforgeeks\n"
     ]
    }
   ],
   "source": [
    "def fun_generator():\n",
    "\tyield \"Hello world!!\"\n",
    "\tyield \"Geeksforgeeks\"\n",
    "\n",
    "\n",
    "obj = fun_generator()  #function call\n",
    "\n",
    "print(type(obj))\n",
    "\n",
    "print(next(obj))\n",
    "print(next(obj))\n"
   ]
  },
  {
   "cell_type": "markdown",
   "id": "ecd77772-fe7c-40e0-9064-ee5fa05db668",
   "metadata": {},
   "source": [
    "Q5. Create a generator function for prime numbers less than 1000. Use the next() method to print the  first 20 prime numbers. "
   ]
  },
  {
   "cell_type": "code",
   "execution_count": 12,
   "id": "77588197-d097-4595-9849-5aad3712185d",
   "metadata": {},
   "outputs": [
    {
     "name": "stdout",
     "output_type": "stream",
     "text": [
      "2\n",
      "3\n",
      "5\n",
      "7\n",
      "11\n",
      "13\n",
      "17\n",
      "19\n",
      "23\n",
      "29\n",
      "31\n",
      "37\n",
      "41\n",
      "43\n",
      "47\n",
      "53\n",
      "59\n",
      "61\n",
      "67\n",
      "71\n"
     ]
    }
   ],
   "source": [
    "def generate_primes():\n",
    "    primes = []\n",
    "    num = 2\n",
    "    while num < 1000:\n",
    "        is_prime = True\n",
    "        for prime in primes:\n",
    "            if num % prime == 0:\n",
    "                is_prime = False\n",
    "                break\n",
    "        if is_prime:\n",
    "            primes.append(num)\n",
    "            yield num\n",
    "        num += 1\n",
    "\n",
    "prime_generator = generate_primes()\n",
    "\n",
    "for i in range(20):\n",
    "    print(next(prime_generator))\n"
   ]
  },
  {
   "cell_type": "markdown",
   "id": "a4906422-5b77-433b-8bc2-aa64e05082a7",
   "metadata": {},
   "source": [
    "Q6. Write a python program to print the first 10 Fibonacci numbers using a while loop. "
   ]
  },
  {
   "cell_type": "code",
   "execution_count": 13,
   "id": "49fa3786-a1fc-4645-a5cf-f6679bac7be6",
   "metadata": {},
   "outputs": [
    {
     "name": "stdout",
     "output_type": "stream",
     "text": [
      "0\n",
      "1\n",
      "1\n",
      "2\n",
      "3\n",
      "5\n",
      "8\n",
      "13\n",
      "21\n",
      "34\n",
      "55\n"
     ]
    }
   ],
   "source": [
    "a,b = 0,1\n",
    "num = 0\n",
    "while num <= 10 :\n",
    "    print(a)\n",
    "    c = a+b\n",
    "    a= b\n",
    "    b= c\n",
    "    num = num + 1"
   ]
  },
  {
   "cell_type": "markdown",
   "id": "41eff323-df80-417a-9e33-becedce9b9c0",
   "metadata": {},
   "source": [
    "Q7. Write a List Comprehension to iterate through the given string: ‘pwskills’. \n",
    "Expected output: ['p', 'w', 's', 'k', 'i', 'l', 'l', 's']  \n"
   ]
  },
  {
   "cell_type": "code",
   "execution_count": 14,
   "id": "d1691437-c50f-4e3c-9924-7a551c8eeb4f",
   "metadata": {},
   "outputs": [
    {
     "name": "stdout",
     "output_type": "stream",
     "text": [
      "['p', 'w', 's', 'k', 'i', 'l', 'l', 's']\n"
     ]
    }
   ],
   "source": [
    "string = 'pwskills'\n",
    "new_list = [char for char in string ]\n",
    "print(new_list)"
   ]
  },
  {
   "cell_type": "markdown",
   "id": "c3ace1fa-a58b-4909-a7ba-c2da40636dca",
   "metadata": {},
   "source": [
    "Q8. Write a python program to check whether a given number is Palindrome or not using a while loop. "
   ]
  },
  {
   "cell_type": "code",
   "execution_count": 16,
   "id": "80d20186-ec62-497f-8ed5-923b123dc8f4",
   "metadata": {},
   "outputs": [
    {
     "name": "stdin",
     "output_type": "stream",
     "text": [
      "Enter a number:  1234\n"
     ]
    },
    {
     "name": "stdout",
     "output_type": "stream",
     "text": [
      "1234 is not a palindrome number\n"
     ]
    }
   ],
   "source": [
    "num = int(input(\"Enter a number: \"))\n",
    "temp = num\n",
    "rev = 0\n",
    "\n",
    "while(temp > 0):\n",
    "    rem = temp % 10\n",
    "    rev = (rev * 10) + rem\n",
    "    temp = temp // 10\n",
    "\n",
    "if num == rev:\n",
    "    print(num, \"is a palindrome number\")\n",
    "else:\n",
    "    print(num, \"is not a palindrome number\")\n"
   ]
  },
  {
   "cell_type": "markdown",
   "id": "553fb1cd-aaf2-497f-945d-bc4cb1728889",
   "metadata": {},
   "source": [
    "Q9. Write a code to print odd numbers from 1 to 100 using list comprehension. \n",
    "Note: Use a list comprehension to create a list from 1 to 100 and use another List comprehension to filter  out odd numbers.\n"
   ]
  },
  {
   "cell_type": "code",
   "execution_count": 3,
   "id": "3e3cf48f-e9c5-468b-9fa9-cd8763396c9c",
   "metadata": {},
   "outputs": [
    {
     "name": "stdout",
     "output_type": "stream",
     "text": [
      "[1, 3, 5, 7, 9, 11, 13, 15, 17, 19, 21, 23, 25, 27, 29, 31, 33, 35, 37, 39, 41, 43, 45, 47, 49, 51, 53, 55, 57, 59, 61, 63, 65, 67, 69, 71, 73, 75, 77, 79, 81, 83, 85, 87, 89, 91, 93, 95, 97, 99]\n"
     ]
    }
   ],
   "source": [
    "odd_num = [ i for i in range(1,100) if i%2!=0 ] \n",
    "print(odd_num)"
   ]
  }
 ],
 "metadata": {
  "kernelspec": {
   "display_name": "Python 3 (ipykernel)",
   "language": "python",
   "name": "python3"
  },
  "language_info": {
   "codemirror_mode": {
    "name": "ipython",
    "version": 3
   },
   "file_extension": ".py",
   "mimetype": "text/x-python",
   "name": "python",
   "nbconvert_exporter": "python",
   "pygments_lexer": "ipython3",
   "version": "3.10.8"
  }
 },
 "nbformat": 4,
 "nbformat_minor": 5
}
